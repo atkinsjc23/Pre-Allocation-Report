{
 "cells": [
  {
   "cell_type": "code",
   "execution_count": 226,
   "metadata": {},
   "outputs": [
    {
     "name": "stdout",
     "output_type": "stream",
     "text": [
      "                Amount  ProcID  Rank1_Margin\n",
      "ValMethodID                                 \n",
      "Bulk          11637751      36     33.548889\n",
      "Fannie_Cash    1248000       5      1.680000\n",
      "Fannie_Spec    5028960      36     13.992778\n",
      "Freddie_Cash   2466350      10     11.956000\n",
      "Freddie_Spec   5904235      26     11.750000\n",
      "MBS            3688117      15     14.634000\n",
      "Wells          4808318      16     25.506250\n",
      "Percentage of volume Wells won 0.13824263088\n",
      "Percentage of loans Wells won 0.111111111111\n",
      "Of loans that Wells won, Wells won by 25.50625 bps\n"
     ]
    }
   ],
   "source": [
    "#Import packages\n",
    "import pandas as pd\n",
    "import numpy as np\n",
    "\n",
    "# Read in data. Remove commas, drop out failed-pricing loans, convert amount to integers\n",
    "loans=pd.read_csv('BestEx_fixed.csv')\n",
    "loans['Amount']=loans['Amount'].str.replace(',','')\n",
    "loans=loans.dropna(axis=0,how='any',subset=['Amount']);\n",
    "loans['Amount']=loans['Amount'].astype(int);\n",
    "temp=loans\n",
    "\n",
    "# Find and replace various valmethodid's into particular groups. \n",
    "l=loans.ValMethodID.unique()\n",
    "Wells=[]\n",
    "Fannie_Spec=[]\n",
    "Fannie_Cash=[]\n",
    "Freddie_Spec=[]\n",
    "Freddie_Cash=[]\n",
    "Chase=[]\n",
    "MBS=[]\n",
    "for x in l:\n",
    "    if 'MBS' in x:\n",
    "        MBS.append(x)\n",
    "    else:\n",
    "        if 'Wells' in x:\n",
    "            Wells.append(x)\n",
    "        elif 'Fannie_Cash'==x:\n",
    "            Fannie_Cash.append(x)\n",
    "        elif 'Freddie_Cash'==x:\n",
    "            Freddie_Cash.append(x)\n",
    "        elif 'Fannie' in x:\n",
    "            Fannie_Spec.append(x)\n",
    "        elif 'Freddie' in x:\n",
    "            Freddie_Spec.append(x)\n",
    "        elif 'Chase' in x:\n",
    "            Chase.append(x)\n",
    "        else:\n",
    "            Bulk.append(x)\n",
    "            \n",
    "loans=loans.replace(Wells, 'Wells').replace(Fannie_Spec,'Fannie_Spec').replace(Freddie_Spec,'Freddie_Spec').replace(MBS,'MBS').replace(Bulk,'Bulk')\n",
    "\n",
    "#Determine the margin at which the winning investor beat other competitors\n",
    "Rank1_Margin=[]\n",
    "for r in range (0,loans.shape[0]):\n",
    "    x=loans.loc[r].loc['Rank 1 Price']\n",
    "    second=0\n",
    "    for i in list(loans.loc[r][30:45]):\n",
    "        if i>second:\n",
    "            if i<x:\n",
    "                second=i\n",
    "    if second==0:\n",
    "        Rank1_Margin.append(0)\n",
    "    else:\n",
    "        Rank1_Margin.append(100*(x-second))\n",
    "\n",
    "new=pd.Series(Rank1_Margin);\n",
    "loans['Rank1_Margin']=new.values\n",
    "\n",
    "#Pivot data. Group by valmethod and sum loan amounts. In addition give a count.\n",
    "df1=loans.groupby(['ValMethodID'])[['Amount']].sum();\n",
    "df2=loans.groupby(['ValMethodID'])[['ProcID']].count();\n",
    "df3=loans.groupby(['ValMethodID'])[['Rank1_Margin']].mean()\n",
    "df=df1.join(df2.join(df3,how='left'), how='left')\n",
    "print(df)\n",
    "\n",
    "#Statistics for Wells\n",
    "loans_volume=df['Amount'].sum()\n",
    "loans_count=df['ProcID'].sum()\n",
    "n1=df.iloc[6,0]\n",
    "n2=df.iloc[6,1]\n",
    "print('Percentage of volume Wells won', n1/loans_volume)\n",
    "print('Percentage of loans Wells won', n2/loans_count)\n",
    "print('Of loans that Wells won, Wells won by', df.iloc[6,2], 'bps')"
   ]
  },
  {
   "cell_type": "code",
   "execution_count": null,
   "metadata": {},
   "outputs": [],
   "source": []
  },
  {
   "cell_type": "code",
   "execution_count": null,
   "metadata": {},
   "outputs": [],
   "source": []
  },
  {
   "cell_type": "code",
   "execution_count": null,
   "metadata": {
    "collapsed": true
   },
   "outputs": [],
   "source": []
  }
 ],
 "metadata": {
  "kernelspec": {
   "display_name": "Python 3",
   "language": "python",
   "name": "python3"
  },
  "language_info": {
   "codemirror_mode": {
    "name": "ipython",
    "version": 3
   },
   "file_extension": ".py",
   "mimetype": "text/x-python",
   "name": "python",
   "nbconvert_exporter": "python",
   "pygments_lexer": "ipython3",
   "version": "3.6.3"
  }
 },
 "nbformat": 4,
 "nbformat_minor": 2
}
